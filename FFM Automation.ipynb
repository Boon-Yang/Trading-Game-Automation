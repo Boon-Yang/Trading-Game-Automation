{
 "cells": [
  {
   "cell_type": "code",
   "execution_count": 1,
   "metadata": {},
   "outputs": [],
   "source": [
    "# Initiate game\n",
    "# generate n_players suits where n_players is currently 5\n",
    "# generate n_cards per suit\n",
    "# shuffle cards\n",
    "\n",
    "\n",
    "# Player\n",
    "# Once the trade is executed, register the trade on their own ledger\n",
    "## information recorded\n",
    "# Functionalities reveal private information\n",
    "# Compute private and perceived probabilities\n",
    "# generate insights\n",
    "# plot risks\n",
    "\n",
    "\n",
    "# MarketMakers\n",
    "# ability to set bid and ask price\n",
    "# arbitage alert\n"
   ]
  },
  {
   "cell_type": "code",
   "execution_count": 2,
   "metadata": {},
   "outputs": [],
   "source": [
    "import numpy as np\n",
    "import pandas as pd\n",
    "import matplotlib.pyplot as plt"
   ]
  },
  {
   "cell_type": "markdown",
   "metadata": {},
   "source": [
    "# Functions"
   ]
  },
  {
   "cell_type": "code",
   "execution_count": 3,
   "metadata": {},
   "outputs": [],
   "source": [
    "def shuffle(deck):\n",
    "    shuffled_deck = []\n",
    "    for i in range(len(deck)):\n",
    "        idx = np.random.randint(0, len(deck))\n",
    "        shuffled_deck.append(deck.pop(idx))\n",
    "    return shuffled_deck"
   ]
  },
  {
   "cell_type": "code",
   "execution_count": 4,
   "metadata": {},
   "outputs": [],
   "source": [
    "def generate_cards(n_cards, suits):\n",
    "    deck = []\n",
    "    for suit in suits:\n",
    "        cards = [suit + ' '+ str(num) for num in np.linspace(1, n_cards, n_cards).astype('int')]\n",
    "        deck.extend(cards)\n",
    "    return deck"
   ]
  },
  {
   "cell_type": "code",
   "execution_count": 5,
   "metadata": {},
   "outputs": [],
   "source": [
    "def distribute(deck, n_cards):\n",
    "    private_information = []\n",
    "    for idx in range(n_cards):\n",
    "        private_information.append(deck.pop(np.random.randint(0, len(deck))))\n",
    "    return private_information\n",
    "    "
   ]
  },
  {
   "cell_type": "code",
   "execution_count": 36,
   "metadata": {},
   "outputs": [],
   "source": [
    "def mergePrivateAndPublic(privateCards, revealedCards):\n",
    "    temp = privateCards.copy()\n",
    "    temp.extend(revealedCards)\n",
    "    return temp\n",
    "\n",
    "# to calculated private prob\n",
    "# first merge public and private\n",
    "\n",
    "# to calculated public prob\n",
    "# use public cards only\n",
    "\n",
    "# Note once a private card has been revealed, they should be added to the revealed public card \n",
    "def calculateProbability(cardsExcluded, n_cards_per_suit, suits):\n",
    "    d = {}\n",
    "    for s in suits:\n",
    "        d[s] = n_cards_per_suit\n",
    "        \n",
    "    for c in cardsExcluded:\n",
    "        suit, _ = c.split(' ')\n",
    "        d[suit] -= 1\n",
    "    # convert to prob\n",
    "    return [round(d[key]/n_cards_per_suit, 3) for key in suits] \n",
    "    "
   ]
  },
  {
   "cell_type": "markdown",
   "metadata": {},
   "source": [
    "# Classes"
   ]
  },
  {
   "cell_type": "code",
   "execution_count": 106,
   "metadata": {},
   "outputs": [],
   "source": [
    "class PublicBoard:\n",
    "    suits = ['S', 'H', 'C', 'D']\n",
    "    n_cards_per_suit = 13\n",
    "    def __init__(self):\n",
    "        self.revealedCards = []\n",
    "        d = {}\n",
    "        for key in ['Public Prob ' + str(suit) for suit in suits]:\n",
    "            d[key] = [1.0]\n",
    "        self.publicInformation = pd.DataFrame.from_dict(d, orient='columns')\n",
    "    \n",
    "    def updateProbability(self, num):\n",
    "        # update public probability\n",
    "        self.publicInformation.loc[num] = calculateProbability(self.revealedCards, n_cards_per_suit, suits)\n",
    "    \n",
    "    def revealedFromPublicDeck(self, deck):\n",
    "        revealedCard = deck.pop()\n",
    "        self.revealedCards.append(revealedCard)\n",
    "        return revealedCard\n",
    "        \n",
    "    # add plotting tools here"
   ]
  },
  {
   "cell_type": "code",
   "execution_count": 102,
   "metadata": {},
   "outputs": [],
   "source": [
    "class Player:\n",
    "    suits = ['S', 'H', 'C', 'D']\n",
    "    n_cards_per_suit\n",
    "    def __init__(self, privateCards, name):\n",
    "#          self.ledger = pd.DataFrame()\n",
    "#         self.inventories = pd.DataFrame(columns= suits.copy() + ['Cash'])\n",
    "        self.name = name\n",
    "        self.privateCards = privateCards\n",
    "        \n",
    "        d = {}\n",
    "        for key in ['Private Prob ' + str(suit) for suit in suits]:\n",
    "            d[key] = [1.0]\n",
    "        self.privateInformation = pd.DataFrame.from_dict(d, orient='columns')\n",
    "        \n",
    "    def updateProbability(self, num, revealedCards):\n",
    "        # update private probability\n",
    "        self.privateInformation.loc[num] = calculateProbability(\\\n",
    "                                            mergePrivateAndPublic(self.privateCards, revealedCards), n_cards_per_suit, suits)\n",
    "    \n",
    "    def revealPrivateCard(self, cardToBeRevealed):\n",
    "        if cardToBeRevealed in self.privateInfo:\n",
    "            idx = self.privateInfo.idx(cardToBeRevealed)\n",
    "            cardRevealed = self.privateCards.pop(idx)\n",
    "            return cardRevealed\n",
    "        else:\n",
    "            pass # raise error\n",
    "        \n",
    "        "
   ]
  },
  {
   "cell_type": "markdown",
   "metadata": {},
   "source": [
    "# Initiate Game"
   ]
  },
  {
   "cell_type": "code",
   "execution_count": 50,
   "metadata": {},
   "outputs": [],
   "source": [
    "# number of market makers\n",
    "n_market_makers = 4 # this is always fixed\n",
    "suits = ['S', 'C', 'D', 'H'] \n",
    "# number of spectator\n",
    "n_spectator = 1 # either 0 or 1\n",
    "\n",
    "# total number of players\n",
    "n_total_players = n_market_makers + n_spectator\n",
    "\n",
    "# number of cards per suit\n",
    "n_cards_per_suit = 13\n",
    "# n_total_cards = n_cards*n_market_makers\n",
    "\n",
    "# maximum bid-ask spread\n",
    "max_bid_ask_spread = 5\n"
   ]
  },
  {
   "cell_type": "code",
   "execution_count": 97,
   "metadata": {},
   "outputs": [
    {
     "name": "stdout",
     "output_type": "stream",
     "text": [
      "52 Cards generated.\n",
      "Cards shuffled.\n",
      "Players obtained private information.\n",
      "29 Cards left\n"
     ]
    }
   ],
   "source": [
    "###### Inititate Game ######\n",
    "# 1. generate cards\n",
    "deck = generate_cards(n_cards_per_suit, suits)\n",
    "print('{} Cards generated.'.format(len(deck)))\n",
    "\n",
    "# 2. shuffle deck\n",
    "deck = shuffle(deck)\n",
    "print('Cards shuffled.')\n",
    "\n",
    "# 3. distribute cards\n",
    "if n_total_players == 4:\n",
    "    # distribute 4 cards for MM\n",
    "    privateInfoMM1, privateInfoMM1,\\\n",
    "    privateInfoMM1, privateInfoMM1 = [distribute(deck, 4) for _ in range(4)]\n",
    "elif n_total_players == 5:\n",
    "    # distribute 5 cards for MM\n",
    "    privateInfoMM1, privateInfoMM2,\\\n",
    "    privateInfoMM3, privateInfoMM4 = [distribute(deck, 5) for _ in range(4)]\n",
    "    \n",
    "    # 3 cards for spectator\n",
    "    privateInfoSpec = distribute(deck, 3)\n",
    "print('Players obtained private information.')\n",
    "print('{} Cards left'.format(len(deck)))"
   ]
  },
  {
   "cell_type": "markdown",
   "metadata": {},
   "source": [
    "# 2. Create Players and Public Board\n",
    "1. Created players and public boad\n",
    "2. Simulated the action of revealing cards from the deck. Updated the public probabilities and the perceived probabilities simultaneously\n",
    "\n",
    "TODO:\n",
    "set bid ask price\n",
    "execute trade: buy or sell\n",
    "update inventories"
   ]
  },
  {
   "cell_type": "code",
   "execution_count": 115,
   "metadata": {},
   "outputs": [],
   "source": [
    "# create players\n",
    "p1 = Player(privateInfoMM1, suits[0])\n",
    "\n",
    "p2 = Player(privateInfoMM2, suits[1])\n",
    "\n",
    "p3 = Player(privateInfoMM3, suits[2])\n",
    "\n",
    "p4 = Player(privateInfoMM4, suits[3])\n",
    "\n",
    "p5 = Player(privateInfoSpec, 'Spectator')\n",
    "\n",
    "# for convenience\n",
    "players = [p1, p2, p3, p4 ,p5]"
   ]
  },
  {
   "cell_type": "code",
   "execution_count": 116,
   "metadata": {},
   "outputs": [],
   "source": [
    "# create public board\n",
    "pb = PublicBoard()"
   ]
  },
  {
   "cell_type": "code",
   "execution_count": 117,
   "metadata": {},
   "outputs": [
    {
     "name": "stdout",
     "output_type": "stream",
     "text": [
      "29\n",
      "['H 13']\n",
      "['H 13', 'H 3']\n",
      "['H 13', 'H 3', 'H 7']\n",
      "['H 13', 'H 3', 'H 7', 'D 3']\n",
      "['H 13', 'H 3', 'H 7', 'D 3', 'D 4']\n",
      "['H 13', 'H 3', 'H 7', 'D 3', 'D 4', 'D 13']\n",
      "['H 13', 'H 3', 'H 7', 'D 3', 'D 4', 'D 13', 'S 9']\n",
      "['H 13', 'H 3', 'H 7', 'D 3', 'D 4', 'D 13', 'S 9', 'H 4']\n",
      "['H 13', 'H 3', 'H 7', 'D 3', 'D 4', 'D 13', 'S 9', 'H 4', 'C 2']\n",
      "['H 13', 'H 3', 'H 7', 'D 3', 'D 4', 'D 13', 'S 9', 'H 4', 'C 2', 'D 7']\n",
      "19\n"
     ]
    }
   ],
   "source": [
    "#  example of card reveal, copy deck to avoid regenerating deck of cards\n",
    "tempDeck = deck.copy()\n",
    "num = 0\n",
    "print(len(tempDeck))\n",
    "\n",
    "# reveal 10 cards consecutively\n",
    "for _ in range(10):\n",
    "    num += 1\n",
    "    pb.revealedFromPublicDeck(tempDeck)\n",
    "    print(pb.revealedCards)\n",
    "    pb.updateProbability(num)\n",
    "    for player in players:\n",
    "        player.updateProbability(num, pb.revealedCards)\n",
    "    \n",
    "# display public information\n",
    "pb.publicInformation\n",
    "print(len(tempDeck))"
   ]
  },
  {
   "cell_type": "code",
   "execution_count": 123,
   "metadata": {},
   "outputs": [
    {
     "name": "stdout",
     "output_type": "stream",
     "text": [
      "['S 4', 'D 10', 'H 5', 'C 5', 'H 2']\n",
      "########## Public Info ##########\n",
      "Public Prob S    0.923\n",
      "Public Prob C    0.923\n",
      "Public Prob D    0.692\n",
      "Public Prob H    0.692\n",
      "Name: 10, dtype: float64\n",
      "########## S Private Info ##########\n",
      "Private Prob S    0.846\n",
      "Private Prob C    0.846\n",
      "Private Prob D    0.615\n",
      "Private Prob H    0.538\n",
      "Name: 10, dtype: float64\n",
      "['D 2', 'S 1', 'C 12', 'H 1', 'D 11']\n",
      "########## Public Info ##########\n",
      "Public Prob S    0.923\n",
      "Public Prob C    0.923\n",
      "Public Prob D    0.692\n",
      "Public Prob H    0.692\n",
      "Name: 10, dtype: float64\n",
      "########## C Private Info ##########\n",
      "Private Prob S    0.846\n",
      "Private Prob C    0.846\n",
      "Private Prob D    0.538\n",
      "Private Prob H    0.615\n",
      "Name: 10, dtype: float64\n",
      "['D 5', 'D 6', 'S 2', 'D 1', 'S 13']\n",
      "########## Public Info ##########\n",
      "Public Prob S    0.923\n",
      "Public Prob C    0.923\n",
      "Public Prob D    0.692\n",
      "Public Prob H    0.692\n",
      "Name: 10, dtype: float64\n",
      "########## D Private Info ##########\n",
      "Private Prob S    0.769\n",
      "Private Prob C    0.923\n",
      "Private Prob D    0.462\n",
      "Private Prob H    0.692\n",
      "Name: 10, dtype: float64\n",
      "['C 8', 'H 9', 'D 12', 'H 10', 'C 9']\n",
      "########## Public Info ##########\n",
      "Public Prob S    0.923\n",
      "Public Prob C    0.923\n",
      "Public Prob D    0.692\n",
      "Public Prob H    0.692\n",
      "Name: 10, dtype: float64\n",
      "########## H Private Info ##########\n",
      "Private Prob S    0.923\n",
      "Private Prob C    0.769\n",
      "Private Prob D    0.615\n",
      "Private Prob H    0.538\n",
      "Name: 10, dtype: float64\n",
      "['C 7', 'D 9', 'H 6']\n",
      "########## Public Info ##########\n",
      "Public Prob S    0.923\n",
      "Public Prob C    0.923\n",
      "Public Prob D    0.692\n",
      "Public Prob H    0.692\n",
      "Name: 10, dtype: float64\n",
      "########## Spectator Private Info ##########\n",
      "Private Prob S    0.923\n",
      "Private Prob C    0.846\n",
      "Private Prob D    0.615\n",
      "Private Prob H    0.615\n",
      "Name: 10, dtype: float64\n"
     ]
    }
   ],
   "source": [
    "for player in players:\n",
    "    player.updateProbability(1, pb.revealedCards)\n",
    "    print(player.privateCards)\n",
    "    print('########## Public Info ##########')\n",
    "    print(pb.publicInformation.loc[10])\n",
    "    print('########## ' + player.name + ' Private Info ##########')\n",
    "    print(player.privateInformation.loc[10])\n",
    "\n"
   ]
  },
  {
   "cell_type": "code",
   "execution_count": 62,
   "metadata": {},
   "outputs": [],
   "source": [
    "# Player\n",
    "# Once the trade is executed, register the trade on their own ledger\n",
    "## information recorded\n",
    "# Functionalities reveal private information\n",
    "# Compute private and perceived probabilities\n",
    "# generate insights\n",
    "# plot risks"
   ]
  },
  {
   "cell_type": "code",
   "execution_count": null,
   "metadata": {},
   "outputs": [],
   "source": []
  },
  {
   "cell_type": "code",
   "execution_count": null,
   "metadata": {},
   "outputs": [],
   "source": []
  },
  {
   "cell_type": "code",
   "execution_count": null,
   "metadata": {},
   "outputs": [],
   "source": []
  },
  {
   "cell_type": "code",
   "execution_count": null,
   "metadata": {},
   "outputs": [],
   "source": []
  },
  {
   "cell_type": "code",
   "execution_count": null,
   "metadata": {},
   "outputs": [],
   "source": []
  },
  {
   "cell_type": "code",
   "execution_count": null,
   "metadata": {},
   "outputs": [],
   "source": []
  },
  {
   "cell_type": "code",
   "execution_count": null,
   "metadata": {},
   "outputs": [],
   "source": []
  },
  {
   "cell_type": "code",
   "execution_count": null,
   "metadata": {},
   "outputs": [],
   "source": []
  },
  {
   "cell_type": "code",
   "execution_count": null,
   "metadata": {},
   "outputs": [],
   "source": []
  },
  {
   "cell_type": "code",
   "execution_count": null,
   "metadata": {},
   "outputs": [],
   "source": []
  },
  {
   "cell_type": "code",
   "execution_count": null,
   "metadata": {},
   "outputs": [],
   "source": []
  },
  {
   "cell_type": "code",
   "execution_count": null,
   "metadata": {},
   "outputs": [],
   "source": []
  },
  {
   "cell_type": "code",
   "execution_count": null,
   "metadata": {},
   "outputs": [],
   "source": []
  },
  {
   "cell_type": "code",
   "execution_count": null,
   "metadata": {},
   "outputs": [],
   "source": []
  },
  {
   "cell_type": "code",
   "execution_count": null,
   "metadata": {},
   "outputs": [],
   "source": []
  },
  {
   "cell_type": "code",
   "execution_count": null,
   "metadata": {},
   "outputs": [],
   "source": []
  },
  {
   "cell_type": "code",
   "execution_count": null,
   "metadata": {},
   "outputs": [],
   "source": []
  },
  {
   "cell_type": "code",
   "execution_count": null,
   "metadata": {},
   "outputs": [],
   "source": []
  },
  {
   "cell_type": "code",
   "execution_count": null,
   "metadata": {},
   "outputs": [],
   "source": []
  }
 ],
 "metadata": {
  "kernelspec": {
   "display_name": "Python 3",
   "language": "python",
   "name": "python3"
  },
  "language_info": {
   "codemirror_mode": {
    "name": "ipython",
    "version": 3
   },
   "file_extension": ".py",
   "mimetype": "text/x-python",
   "name": "python",
   "nbconvert_exporter": "python",
   "pygments_lexer": "ipython3",
   "version": "3.6.7"
  }
 },
 "nbformat": 4,
 "nbformat_minor": 2
}
