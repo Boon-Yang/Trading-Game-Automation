{
 "cells": [
  {
   "cell_type": "code",
   "execution_count": 1,
   "metadata": {},
   "outputs": [],
   "source": [
    "# Initiate game\n",
    "# generate n_players suits where n_players is currently 5\n",
    "# generate n_cards per suit\n",
    "# shuffle cards\n",
    "\n",
    "\n",
    "# Player\n",
    "# Once the trade is executed, register the trade on their own ledger\n",
    "## information recorded\n",
    "# Functionalities reveal private information\n",
    "# Compute private and perceived probabilities\n",
    "# generate insights\n",
    "# plot risks\n",
    "\n",
    "\n",
    "# MarketMakers\n",
    "# ability to set bid and ask price\n",
    "# arbitage alert\n"
   ]
  },
  {
   "cell_type": "code",
   "execution_count": 101,
   "metadata": {},
   "outputs": [],
   "source": [
    "import numpy as np\n",
    "import pandas as pd\n",
    "import matplotlib.pyplot as plt"
   ]
  },
  {
   "cell_type": "markdown",
   "metadata": {},
   "source": [
    "# Functions"
   ]
  },
  {
   "cell_type": "code",
   "execution_count": 76,
   "metadata": {},
   "outputs": [],
   "source": [
    "def shuffle(deck):\n",
    "    shuffled_deck = []\n",
    "    for i in range(len(deck)):\n",
    "        idx = np.random.randint(0, len(deck))\n",
    "        shuffled_deck.append(deck.pop(idx))\n",
    "    return shuffled_deck"
   ]
  },
  {
   "cell_type": "code",
   "execution_count": 77,
   "metadata": {},
   "outputs": [],
   "source": [
    "def generate_cards(n_cards, suits):\n",
    "    deck = []\n",
    "    for suit in suits:\n",
    "        cards = [suit + ' '+ str(num) for num in np.linspace(1, n_cards, n_cards).astype('int')]\n",
    "        deck.extend(cards)\n",
    "    return deck"
   ]
  },
  {
   "cell_type": "code",
   "execution_count": 89,
   "metadata": {},
   "outputs": [],
   "source": [
    "def distribute(deck, n_cards):\n",
    "    private_information = []\n",
    "    for idx in range(n_cards):\n",
    "        private_information.append(deck.pop(np.random.randint(0, len(deck))))\n",
    "    return private_information\n",
    "    "
   ]
  },
  {
   "cell_type": "markdown",
   "metadata": {},
   "source": [
    "# Initiate Game"
   ]
  },
  {
   "cell_type": "code",
   "execution_count": 90,
   "metadata": {},
   "outputs": [],
   "source": [
    "# number of market makers\n",
    "n_market_makers = 4 # this is always fixed\n",
    "suits = ['S', 'C', 'D', 'H'] \n",
    "# number of spectator\n",
    "n_spectator = 1 # either 0 or 1\n",
    "\n",
    "# total number of players\n",
    "n_total_players = n_market_makers + n_spectator\n",
    "\n",
    "# number of cards per suit\n",
    "n_cards_per_suit = 13\n",
    "# n_total_cards = n_cards*n_market_makers\n",
    "\n",
    "# maximum bid-ask spread\n",
    "max_bid_ask_spread = 5\n"
   ]
  },
  {
   "cell_type": "code",
   "execution_count": 102,
   "metadata": {},
   "outputs": [
    {
     "name": "stdout",
     "output_type": "stream",
     "text": [
      "Cards generated.\n",
      "Cards shuffled.\n",
      "Players obtained private information.\n"
     ]
    }
   ],
   "source": [
    "###### Inititate Game ######\n",
    "# 1. generate cards\n",
    "deck = generate_cards(n_cards_per_suit, suits)\n",
    "print('Cards generated.')\n",
    "\n",
    "# 2. shuffle deck\n",
    "deck = shuffle(deck)\n",
    "print('Cards shuffled.')\n",
    "\n",
    "# 3. distribute cards\n",
    "if n_total_players == 4:\n",
    "    # distribute 4 cards for MM\n",
    "    privateInfoMM1, privateInfoMM1,\\\n",
    "    privateInfoMM1, privateInfoMM1 = [distribute(deck, 4) for _ in range(4)]\n",
    "elif n_total_players == 5:\n",
    "    # distribute 5 cards for MM\n",
    "    privateInfoMM1, privateInfoMM1,\\\n",
    "    privateInfoMM1, privateInfoMM1 = [distribute(deck, 5) for _ in range(4)]\n",
    "    \n",
    "    # 3 cards for spectator\n",
    "    privateInfoSpec = distribute(deck, 3)\n",
    "print('Players obtained private information.')"
   ]
  },
  {
   "cell_type": "code",
   "execution_count": null,
   "metadata": {},
   "outputs": [],
   "source": [
    "# Player\n",
    "# Once the trade is executed, register the trade on their own ledger\n",
    "## information recorded\n",
    "# Functionalities reveal private information\n",
    "# Compute private and perceived probabilities\n",
    "# generate insights\n",
    "# plot risks"
   ]
  },
  {
   "cell_type": "code",
   "execution_count": 104,
   "metadata": {},
   "outputs": [],
   "source": [
    "class Player:\n",
    "    suits = ['S', 'H', 'C', 'D']\n",
    "    def __init__(self, privateInfo):\n",
    "        self.privateInfo = privateInfo\n",
    "#         self.ledger = pd.DataFrame()\n",
    "#         self.inventories = pd.DataFrame(columns= suits.copy() + ['Cash'])\n",
    "        \n",
    "        d = {}\n",
    "        for key in ['Private Prob ' + str(suit) for suit in suits]:\n",
    "            d[key] = [1.0]\n",
    "        self.privateInformation = pd.DataFrame.from_dict(d, orient='columns')\n",
    "        \n",
    "    def update(self):\n",
    "        # update private information\n",
    "        for privateCard in self.privateInfo:\n",
    "            s, _ = privateCard.split(' ')\n",
    "            \n",
    "        "
   ]
  },
  {
   "cell_type": "code",
   "execution_count": 123,
   "metadata": {},
   "outputs": [],
   "source": [
    "suits = ['S', 'H', 'C', 'D']\n",
    "d = {}\n",
    "for key in ['Private Prob ' + str(suit) for suit in suits]:\n",
    "    d[key] = [0]\n",
    "    \n",
    "temp = pd.DataFrame.from_dict(d, orient='columns')\n"
   ]
  },
  {
   "cell_type": "code",
   "execution_count": 128,
   "metadata": {},
   "outputs": [],
   "source": [
    "temp.loc[1] = [1,2 ,3,4]"
   ]
  },
  {
   "cell_type": "code",
   "execution_count": 129,
   "metadata": {},
   "outputs": [
    {
     "data": {
      "text/html": [
       "<div>\n",
       "<style scoped>\n",
       "    .dataframe tbody tr th:only-of-type {\n",
       "        vertical-align: middle;\n",
       "    }\n",
       "\n",
       "    .dataframe tbody tr th {\n",
       "        vertical-align: top;\n",
       "    }\n",
       "\n",
       "    .dataframe thead th {\n",
       "        text-align: right;\n",
       "    }\n",
       "</style>\n",
       "<table border=\"1\" class=\"dataframe\">\n",
       "  <thead>\n",
       "    <tr style=\"text-align: right;\">\n",
       "      <th></th>\n",
       "      <th>Private Prob S</th>\n",
       "      <th>Private Prob H</th>\n",
       "      <th>Private Prob C</th>\n",
       "      <th>Private Prob D</th>\n",
       "    </tr>\n",
       "  </thead>\n",
       "  <tbody>\n",
       "    <tr>\n",
       "      <th>0</th>\n",
       "      <td>0</td>\n",
       "      <td>0</td>\n",
       "      <td>0</td>\n",
       "      <td>0</td>\n",
       "    </tr>\n",
       "    <tr>\n",
       "      <th>1</th>\n",
       "      <td>1</td>\n",
       "      <td>2</td>\n",
       "      <td>3</td>\n",
       "      <td>4</td>\n",
       "    </tr>\n",
       "  </tbody>\n",
       "</table>\n",
       "</div>"
      ],
      "text/plain": [
       "   Private Prob S  Private Prob H  Private Prob C  Private Prob D\n",
       "0               0               0               0               0\n",
       "1               1               2               3               4"
      ]
     },
     "execution_count": 129,
     "metadata": {},
     "output_type": "execute_result"
    }
   ],
   "source": [
    "temp"
   ]
  },
  {
   "cell_type": "code",
   "execution_count": null,
   "metadata": {},
   "outputs": [],
   "source": []
  },
  {
   "cell_type": "code",
   "execution_count": null,
   "metadata": {},
   "outputs": [],
   "source": []
  },
  {
   "cell_type": "code",
   "execution_count": null,
   "metadata": {},
   "outputs": [],
   "source": []
  },
  {
   "cell_type": "code",
   "execution_count": null,
   "metadata": {},
   "outputs": [],
   "source": []
  },
  {
   "cell_type": "code",
   "execution_count": null,
   "metadata": {},
   "outputs": [],
   "source": []
  },
  {
   "cell_type": "code",
   "execution_count": null,
   "metadata": {},
   "outputs": [],
   "source": []
  },
  {
   "cell_type": "code",
   "execution_count": null,
   "metadata": {},
   "outputs": [],
   "source": []
  },
  {
   "cell_type": "code",
   "execution_count": null,
   "metadata": {},
   "outputs": [],
   "source": []
  },
  {
   "cell_type": "code",
   "execution_count": null,
   "metadata": {},
   "outputs": [],
   "source": []
  },
  {
   "cell_type": "code",
   "execution_count": null,
   "metadata": {},
   "outputs": [],
   "source": []
  },
  {
   "cell_type": "code",
   "execution_count": null,
   "metadata": {},
   "outputs": [],
   "source": []
  },
  {
   "cell_type": "code",
   "execution_count": null,
   "metadata": {},
   "outputs": [],
   "source": []
  },
  {
   "cell_type": "code",
   "execution_count": null,
   "metadata": {},
   "outputs": [],
   "source": []
  },
  {
   "cell_type": "code",
   "execution_count": null,
   "metadata": {},
   "outputs": [],
   "source": []
  },
  {
   "cell_type": "code",
   "execution_count": null,
   "metadata": {},
   "outputs": [],
   "source": []
  },
  {
   "cell_type": "code",
   "execution_count": null,
   "metadata": {},
   "outputs": [],
   "source": []
  },
  {
   "cell_type": "code",
   "execution_count": null,
   "metadata": {},
   "outputs": [],
   "source": []
  },
  {
   "cell_type": "code",
   "execution_count": null,
   "metadata": {},
   "outputs": [],
   "source": []
  },
  {
   "cell_type": "code",
   "execution_count": null,
   "metadata": {},
   "outputs": [],
   "source": []
  },
  {
   "cell_type": "code",
   "execution_count": null,
   "metadata": {},
   "outputs": [],
   "source": []
  },
  {
   "cell_type": "code",
   "execution_count": null,
   "metadata": {},
   "outputs": [],
   "source": []
  }
 ],
 "metadata": {
  "kernelspec": {
   "display_name": "Python 3",
   "language": "python",
   "name": "python3"
  },
  "language_info": {
   "codemirror_mode": {
    "name": "ipython",
    "version": 3
   },
   "file_extension": ".py",
   "mimetype": "text/x-python",
   "name": "python",
   "nbconvert_exporter": "python",
   "pygments_lexer": "ipython3",
   "version": "3.6.7"
  }
 },
 "nbformat": 4,
 "nbformat_minor": 2
}
